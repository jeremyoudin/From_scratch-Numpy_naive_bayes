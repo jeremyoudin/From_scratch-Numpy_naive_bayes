{
 "cells": [
  {
   "cell_type": "code",
   "execution_count": 9,
   "metadata": {},
   "outputs": [],
   "source": [
    "import numpy as np\n",
    "from sklearn import datasets\n",
    "import seaborn as sns\n",
    "import pandas as pd"
   ]
  },
  {
   "cell_type": "code",
   "execution_count": 132,
   "metadata": {},
   "outputs": [],
   "source": [
    "iris = datasets.load_iris()\n",
    "df = pd.DataFrame()\n",
    "df['SepalLength'] = iris.data[:, 0]\n",
    "df['SepalWidth'] = iris.data[:, 1]\n",
    "df['PetalLength'] = iris.data[:, 2]\n",
    "df['PetalWidth'] = iris.data[:, 3]\n",
    "df['Target'] = (iris.target != 0) * 1"
   ]
  },
  {
   "cell_type": "code",
   "execution_count": 147,
   "metadata": {},
   "outputs": [],
   "source": [
    "def NB_stats(df):\n",
    "    Features_name = list(df.columns[:-1]) # Noms des variables indépendantes\n",
    "    Labels_name = df.iloc[:,-1].unique() # Valeurs des différentes classes\n",
    "    df_stats=pd.DataFrame()\n",
    "    for column_name in Features_name:\n",
    "        for label in Labels_name:\n",
    "            mu = []\n",
    "            var = []\n",
    "            mu.append(df.loc[(df.iloc[:,-1] == label), column_name].mean())\n",
    "            var.append(df.loc[(df.iloc[:,-1] == label), column_name].var())\n",
    "            \n",
    "            df_stats[column_name + '_' + str(label) + '_' + 'mu'] = mu\n",
    "            df_stats[column_name + '_' + str(label) + '_' + 'var'] = var\n",
    "        \n",
    "    return df_stats"
   ]
  },
  {
   "cell_type": "code",
   "execution_count": 134,
   "metadata": {},
   "outputs": [],
   "source": [
    "def Gaussian_prob(mu,var, x):\n",
    "    p = 1/np.sqrt(np.pi*2*var)*np.exp(-(x-mu)**2/2/var)\n",
    "    return p"
   ]
  },
  {
   "cell_type": "code",
   "execution_count": 139,
   "metadata": {},
   "outputs": [],
   "source": [
    "def NB_binary(df,df_stats):\n",
    "    N_rows = df.shape[0] # nombre d'observations\n",
    "    N_features = df.shape[1]-1 # Nombre de variables indépendantes\n",
    "    Features_name = list(df.columns[:-1]) # Liste des noms des variables\n",
    "\n",
    "    pred = []\n",
    "    for i in range(N_rows):\n",
    "        p_0 = 1\n",
    "        p_1 = 1\n",
    "        for feature in range(N_features):\n",
    "            # Calcule de la probabilité d'appartenir à la classe 1\n",
    "            p_0 = p_0 * Gaussian_prob(df_stats[Features_name[feature] + '_' + str(0) + '_' + 'mu'],\n",
    "                                      df_stats[Features_name[feature] + '_' + str(0) + '_' + 'var'],\n",
    "                                      df.iloc[i,feature]).values\n",
    "            # Calcule de la probabilité d'appartenir à la classe 2\n",
    "            p_1 = p_1 * Gaussian_prob(df_stats[Features_name[feature] + '_' + str(1) + '_' + 'mu'],\n",
    "                                      df_stats[Features_name[feature] + '_' + str(1) + '_' + 'var'],\n",
    "                                      df.iloc[i,feature]).values\n",
    "        if p_0 > p_1:\n",
    "            # Si p_0 > p_1 alors l'obsevation appartient à la classe 1\n",
    "            pred.append(0)\n",
    "        else:\n",
    "            # Si p_0 < p_1 alors l'obsevation appartient à la classe 2\n",
    "            pred.append(1)\n",
    "            \n",
    "    return pred         "
   ]
  },
  {
   "cell_type": "code",
   "execution_count": 148,
   "metadata": {},
   "outputs": [
    {
     "name": "stdout",
     "output_type": "stream",
     "text": [
      "NB_Score: 1.0\n"
     ]
    }
   ],
   "source": [
    "from sklearn.metrics import accuracy_score\n",
    "\n",
    "df_stats = NB_stats(df)\n",
    "pred = NB_binary(df, df_stats)\n",
    "\n",
    "print('NB_Score:', accuracy_score(y,pred))"
   ]
  },
  {
   "cell_type": "code",
   "execution_count": 137,
   "metadata": {},
   "outputs": [
    {
     "data": {
      "text/plain": [
       "<matplotlib.axes._subplots.AxesSubplot at 0xd23eb70>"
      ]
     },
     "execution_count": 137,
     "metadata": {},
     "output_type": "execute_result"
    },
    {
     "data": {
      "image/png": "[encoded data removed]",
      "text/plain": [
       "<Figure size 432x288 with 1 Axes>"
      ]
     },
     "metadata": {
      "needs_background": "light"
     },
     "output_type": "display_data"
    }
   ],
   "source": [
    "sns.scatterplot(x=X[:,0], y=X[:,1], hue=df['Target'])\n",
    "sns.scatterplot(x=X[:,0], y=X[:,1], hue=pred, marker='x')"
   ]
  }
 ],
 "metadata": {
  "kernelspec": {
   "display_name": "Python 3",
   "language": "python",
   "name": "python3"
  },
  "language_info": {
   "codemirror_mode": {
    "name": "ipython",
    "version": 3
   },
   "file_extension": ".py",
   "mimetype": "text/x-python",
   "name": "python",
   "nbconvert_exporter": "python",
   "pygments_lexer": "ipython3",
   "version": "3.7.3"
  }
 },
 "nbformat": 4,
 "nbformat_minor": 2
}
